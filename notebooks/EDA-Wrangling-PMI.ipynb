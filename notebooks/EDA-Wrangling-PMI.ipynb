{
 "cells": [
  {
   "cell_type": "code",
   "execution_count": 71,
   "id": "4d444625",
   "metadata": {},
   "outputs": [],
   "source": [
    "import pandas as pd\n",
    "import numpy as np\n",
    "import matplotlib.pyplot as plt\n",
    "import seaborn as sns\n",
    "%matplotlib inline\n",
    "import re"
   ]
  },
  {
   "cell_type": "markdown",
   "id": "16467602-275c-4ef6-9a33-5656cd466495",
   "metadata": {},
   "source": [
    "## Data Preparation"
   ]
  },
  {
   "cell_type": "code",
   "execution_count": 2,
   "id": "931676c1",
   "metadata": {},
   "outputs": [],
   "source": [
    "data = pd.read_csv(\"Laporan Stock Gudang Darurat 27 April 2021-REV.xlsx - Keluar-Masuk.csv\", skipinitialspace=True)"
   ]
  },
  {
   "cell_type": "code",
   "execution_count": 3,
   "id": "bb17feaa-7a9a-4ac8-a37b-113e292ee37a",
   "metadata": {},
   "outputs": [
    {
     "data": {
      "text/html": [
       "<div>\n",
       "<style scoped>\n",
       "    .dataframe tbody tr th:only-of-type {\n",
       "        vertical-align: middle;\n",
       "    }\n",
       "\n",
       "    .dataframe tbody tr th {\n",
       "        vertical-align: top;\n",
       "    }\n",
       "\n",
       "    .dataframe thead th {\n",
       "        text-align: right;\n",
       "    }\n",
       "</style>\n",
       "<table border=\"1\" class=\"dataframe\">\n",
       "  <thead>\n",
       "    <tr style=\"text-align: right;\">\n",
       "      <th></th>\n",
       "      <th>Tanggal</th>\n",
       "      <th>IN / OUT</th>\n",
       "      <th>Nomor GDN/GRN</th>\n",
       "      <th>Gudang</th>\n",
       "      <th>Dari/Kepada-Masking</th>\n",
       "      <th>Nama Barang</th>\n",
       "      <th>Merk/Jenis-Deleted</th>\n",
       "      <th>Satuan</th>\n",
       "      <th>Masuk</th>\n",
       "      <th>Keluar</th>\n",
       "      <th>Nilai</th>\n",
       "      <th>Jumlah</th>\n",
       "      <th>Berat</th>\n",
       "      <th>Total Berat</th>\n",
       "    </tr>\n",
       "  </thead>\n",
       "  <tbody>\n",
       "    <tr>\n",
       "      <th>0</th>\n",
       "      <td>1-Feb-20</td>\n",
       "      <td>IN</td>\n",
       "      <td>1.01</td>\n",
       "      <td>G2</td>\n",
       "      <td>Gudang Regional PMI_Serang</td>\n",
       "      <td>Masker Bedah</td>\n",
       "      <td>Sensi</td>\n",
       "      <td>Pcs</td>\n",
       "      <td>350,000</td>\n",
       "      <td>NaN</td>\n",
       "      <td>Rp 7,000</td>\n",
       "      <td>Rp 2,450,000,000</td>\n",
       "      <td>0.006</td>\n",
       "      <td>2100.0</td>\n",
       "    </tr>\n",
       "    <tr>\n",
       "      <th>1</th>\n",
       "      <td>1-Feb-20</td>\n",
       "      <td>OUT</td>\n",
       "      <td>1.01</td>\n",
       "      <td>G2</td>\n",
       "      <td>Ketua Umum</td>\n",
       "      <td>Masker N95</td>\n",
       "      <td>3M</td>\n",
       "      <td>Pcs</td>\n",
       "      <td>NaN</td>\n",
       "      <td>800</td>\n",
       "      <td>Rp 108,240</td>\n",
       "      <td>Rp 86,592,000</td>\n",
       "      <td>0.04</td>\n",
       "      <td>32.0</td>\n",
       "    </tr>\n",
       "    <tr>\n",
       "      <th>2</th>\n",
       "      <td>1-Feb-20</td>\n",
       "      <td>OUT</td>\n",
       "      <td>1.02</td>\n",
       "      <td>G2</td>\n",
       "      <td>PMI Kabupaten Natuna</td>\n",
       "      <td>Masker Bedah</td>\n",
       "      <td>Sensi</td>\n",
       "      <td>Pcs</td>\n",
       "      <td>NaN</td>\n",
       "      <td>20,000</td>\n",
       "      <td>Rp 7,000</td>\n",
       "      <td>Rp 140,000,000</td>\n",
       "      <td>0.006</td>\n",
       "      <td>120.0</td>\n",
       "    </tr>\n",
       "    <tr>\n",
       "      <th>3</th>\n",
       "      <td>5-Feb-20</td>\n",
       "      <td>OUT</td>\n",
       "      <td>5.01</td>\n",
       "      <td>G2</td>\n",
       "      <td>Palang Merah Hongkong</td>\n",
       "      <td>Masker Bedah</td>\n",
       "      <td>Sensi</td>\n",
       "      <td>Pcs</td>\n",
       "      <td>NaN</td>\n",
       "      <td>50,000</td>\n",
       "      <td>Rp 7,000</td>\n",
       "      <td>Rp 350,000,000</td>\n",
       "      <td>0.006</td>\n",
       "      <td>300.0</td>\n",
       "    </tr>\n",
       "    <tr>\n",
       "      <th>4</th>\n",
       "      <td>5-Feb-20</td>\n",
       "      <td>OUT</td>\n",
       "      <td>5.02</td>\n",
       "      <td>G2</td>\n",
       "      <td>Lain-lain</td>\n",
       "      <td>Masker Bedah</td>\n",
       "      <td>Sensi</td>\n",
       "      <td>Pcs</td>\n",
       "      <td>NaN</td>\n",
       "      <td>4,000</td>\n",
       "      <td>Rp 7,000</td>\n",
       "      <td>Rp 28,000,000</td>\n",
       "      <td>0.006</td>\n",
       "      <td>24.0</td>\n",
       "    </tr>\n",
       "  </tbody>\n",
       "</table>\n",
       "</div>"
      ],
      "text/plain": [
       "    Tanggal IN / OUT Nomor GDN/GRN Gudang         Dari/Kepada-Masking  \\\n",
       "0  1-Feb-20       IN          1.01     G2  Gudang Regional PMI_Serang   \n",
       "1  1-Feb-20      OUT          1.01     G2                  Ketua Umum   \n",
       "2  1-Feb-20      OUT          1.02     G2        PMI Kabupaten Natuna   \n",
       "3  5-Feb-20      OUT          5.01     G2       Palang Merah Hongkong   \n",
       "4  5-Feb-20      OUT          5.02     G2                   Lain-lain   \n",
       "\n",
       "    Nama Barang Merk/Jenis-Deleted Satuan    Masuk  Keluar         Nilai  \\\n",
       "0  Masker Bedah              Sensi    Pcs  350,000     NaN     Rp 7,000    \n",
       "1    Masker N95                 3M    Pcs      NaN     800   Rp 108,240    \n",
       "2  Masker Bedah              Sensi    Pcs      NaN  20,000     Rp 7,000    \n",
       "3  Masker Bedah              Sensi    Pcs      NaN  50,000     Rp 7,000    \n",
       "4  Masker Bedah              Sensi    Pcs      NaN   4,000     Rp 7,000    \n",
       "\n",
       "               Jumlah  Berat  Total Berat  \n",
       "0   Rp 2,450,000,000   0.006       2100.0  \n",
       "1      Rp 86,592,000    0.04         32.0  \n",
       "2     Rp 140,000,000   0.006        120.0  \n",
       "3     Rp 350,000,000   0.006        300.0  \n",
       "4      Rp 28,000,000   0.006         24.0  "
      ]
     },
     "execution_count": 3,
     "metadata": {},
     "output_type": "execute_result"
    }
   ],
   "source": [
    "data.head()"
   ]
  },
  {
   "cell_type": "code",
   "execution_count": 4,
   "id": "d335a147-7b48-4da2-8b3d-3d22c86a3d86",
   "metadata": {},
   "outputs": [
    {
     "data": {
      "text/plain": [
       "Index(['Tanggal', 'IN / OUT', 'Nomor GDN/GRN', 'Gudang', 'Dari/Kepada-Masking',\n",
       "       'Nama Barang', 'Merk/Jenis-Deleted', 'Satuan', 'Masuk', 'Keluar',\n",
       "       'Nilai', 'Jumlah', 'Berat', 'Total Berat'],\n",
       "      dtype='object')"
      ]
     },
     "execution_count": 4,
     "metadata": {},
     "output_type": "execute_result"
    }
   ],
   "source": [
    "data.columns"
   ]
  },
  {
   "cell_type": "markdown",
   "id": "46982cde-012f-4539-906a-2cad83de0460",
   "metadata": {},
   "source": [
    "- Tanggal: Tanggal transaksi\n",
    "- IN / OUT: Keterangan barang masuk atau keluar\n",
    "- Nomor GDN/GRN: Nomor kode gudang(cek lagi)\n",
    "- Gudang: Kode gudang setiap lokasi\n",
    "- Dari/Kepada-Masking: donatur atau penerima manfaat, mengacu juga pada kolom 'IN / OUT'\n",
    "- Nama Barang: jelas\n",
    "- Merk/Jenis-Deleted: jelas\n",
    "- Satuan: satuan untuk barang\n",
    "- Masuk: Jumlah masuk bukan nominal dalam bentuk uang\n",
    "- Keluar: Jumlah keluar bukan nominal dalam bentuk uang\n",
    "- Nilai: Nominal uang untuk setiap barang\n",
    "- Jumlah: Jumlah total nominal uang untuk setiap barang\n",
    "- Berat: berat barang per satuan\n",
    "- Total Berat: Jumlah barang per transaksi"
   ]
  },
  {
   "cell_type": "markdown",
   "id": "f757f7b4-3ab9-4eaf-9e50-4056a5f762a3",
   "metadata": {},
   "source": [
    "## Check NaN"
   ]
  },
  {
   "cell_type": "code",
   "execution_count": 5,
   "id": "dffe476e-46eb-4f62-bc29-d5f742b67f28",
   "metadata": {},
   "outputs": [
    {
     "data": {
      "text/html": [
       "<div>\n",
       "<style scoped>\n",
       "    .dataframe tbody tr th:only-of-type {\n",
       "        vertical-align: middle;\n",
       "    }\n",
       "\n",
       "    .dataframe tbody tr th {\n",
       "        vertical-align: top;\n",
       "    }\n",
       "\n",
       "    .dataframe thead th {\n",
       "        text-align: right;\n",
       "    }\n",
       "</style>\n",
       "<table border=\"1\" class=\"dataframe\">\n",
       "  <thead>\n",
       "    <tr style=\"text-align: right;\">\n",
       "      <th></th>\n",
       "      <th>Total</th>\n",
       "      <th>Percent</th>\n",
       "    </tr>\n",
       "  </thead>\n",
       "  <tbody>\n",
       "    <tr>\n",
       "      <th>Masuk</th>\n",
       "      <td>7377</td>\n",
       "      <td>0.900843</td>\n",
       "    </tr>\n",
       "    <tr>\n",
       "      <th>Merk/Jenis-Deleted</th>\n",
       "      <td>3857</td>\n",
       "      <td>0.470998</td>\n",
       "    </tr>\n",
       "    <tr>\n",
       "      <th>Keluar</th>\n",
       "      <td>816</td>\n",
       "      <td>0.099646</td>\n",
       "    </tr>\n",
       "    <tr>\n",
       "      <th>Nilai</th>\n",
       "      <td>517</td>\n",
       "      <td>0.063133</td>\n",
       "    </tr>\n",
       "    <tr>\n",
       "      <th>Jumlah</th>\n",
       "      <td>426</td>\n",
       "      <td>0.052021</td>\n",
       "    </tr>\n",
       "    <tr>\n",
       "      <th>Berat</th>\n",
       "      <td>95</td>\n",
       "      <td>0.011601</td>\n",
       "    </tr>\n",
       "    <tr>\n",
       "      <th>Satuan</th>\n",
       "      <td>2</td>\n",
       "      <td>0.000244</td>\n",
       "    </tr>\n",
       "    <tr>\n",
       "      <th>Nomor GDN/GRN</th>\n",
       "      <td>1</td>\n",
       "      <td>0.000122</td>\n",
       "    </tr>\n",
       "    <tr>\n",
       "      <th>Tanggal</th>\n",
       "      <td>0</td>\n",
       "      <td>0.000000</td>\n",
       "    </tr>\n",
       "    <tr>\n",
       "      <th>IN / OUT</th>\n",
       "      <td>0</td>\n",
       "      <td>0.000000</td>\n",
       "    </tr>\n",
       "    <tr>\n",
       "      <th>Gudang</th>\n",
       "      <td>0</td>\n",
       "      <td>0.000000</td>\n",
       "    </tr>\n",
       "    <tr>\n",
       "      <th>Dari/Kepada-Masking</th>\n",
       "      <td>0</td>\n",
       "      <td>0.000000</td>\n",
       "    </tr>\n",
       "    <tr>\n",
       "      <th>Nama Barang</th>\n",
       "      <td>0</td>\n",
       "      <td>0.000000</td>\n",
       "    </tr>\n",
       "    <tr>\n",
       "      <th>Total Berat</th>\n",
       "      <td>0</td>\n",
       "      <td>0.000000</td>\n",
       "    </tr>\n",
       "  </tbody>\n",
       "</table>\n",
       "</div>"
      ],
      "text/plain": [
       "                     Total   Percent\n",
       "Masuk                 7377  0.900843\n",
       "Merk/Jenis-Deleted    3857  0.470998\n",
       "Keluar                 816  0.099646\n",
       "Nilai                  517  0.063133\n",
       "Jumlah                 426  0.052021\n",
       "Berat                   95  0.011601\n",
       "Satuan                   2  0.000244\n",
       "Nomor GDN/GRN            1  0.000122\n",
       "Tanggal                  0  0.000000\n",
       "IN / OUT                 0  0.000000\n",
       "Gudang                   0  0.000000\n",
       "Dari/Kepada-Masking      0  0.000000\n",
       "Nama Barang              0  0.000000\n",
       "Total Berat              0  0.000000"
      ]
     },
     "execution_count": 5,
     "metadata": {},
     "output_type": "execute_result"
    }
   ],
   "source": [
    "total = data.isnull().sum().sort_values(ascending=False)\n",
    "percent = (data.isnull().sum()/data.isnull().count()).sort_values(ascending=False)\n",
    "missing_data = pd.concat([total, percent], axis=1, keys=['Total', 'Percent'])\n",
    "missing_data.head(20)"
   ]
  },
  {
   "cell_type": "markdown",
   "id": "e9db7b7e-7751-4e0b-a729-351e76e3dbec",
   "metadata": {},
   "source": [
    "- Banyak data NaN dikarenakan ada korelasi antar kolom `IN / OUT`, `Masuk`, `Keluar`, sehingga menyebabkan data banyak NaN\n",
    "- Untuk masalah data NaN pada kolom `Masuk`, `Keluar`, akan dilakukan imputasi dengan nilai `0` agar tidak ada data NaN\n",
    "- Untuk kolom `Merk/Jenis-Deleted` di drop karena merupakan data yang kurang penting\n",
    "- Untuk kolom `Nilai`, `Jumlah`, `Berat`, `Satuan`, `Nomor GDN/GRN`, hapus bagian rows nya yang menunjukkan nilai NaN"
   ]
  },
  {
   "cell_type": "markdown",
   "id": "746ed2e4-0987-411f-a9d0-a8c0ada3f227",
   "metadata": {},
   "source": [
    "## Imputasi Data NaN"
   ]
  },
  {
   "cell_type": "code",
   "execution_count": 6,
   "id": "7d194a26-bfdb-440f-a642-a36f52d340cd",
   "metadata": {},
   "outputs": [],
   "source": [
    "#Isi nilai '0' untuk kolom `Masuk` dan `Keluar`\n",
    "data['Masuk'] = data['Masuk'].fillna(0)\n",
    "data['Keluar'] = data['Keluar'].fillna(0)"
   ]
  },
  {
   "cell_type": "code",
   "execution_count": 7,
   "id": "0d7e28db-26c5-4ecb-b5b7-403007e29615",
   "metadata": {},
   "outputs": [],
   "source": [
    "#Drop kolom 'Merk/Jenis-Deleted'\n",
    "data = data.drop(['Merk/Jenis-Deleted'], axis=1)"
   ]
  },
  {
   "cell_type": "code",
   "execution_count": 8,
   "id": "ac6b6581-ec22-47ec-83c9-2ff0dd992603",
   "metadata": {},
   "outputs": [],
   "source": [
    "#Drop rows NaN\n",
    "data = data.dropna()"
   ]
  },
  {
   "cell_type": "code",
   "execution_count": 9,
   "id": "c59f67ed-2acc-44bc-8493-98023e413a1a",
   "metadata": {},
   "outputs": [
    {
     "name": "stdout",
     "output_type": "stream",
     "text": [
      "<class 'pandas.core.frame.DataFrame'>\n",
      "Int64Index: 7666 entries, 0 to 8188\n",
      "Data columns (total 13 columns):\n",
      " #   Column               Non-Null Count  Dtype  \n",
      "---  ------               --------------  -----  \n",
      " 0   Tanggal              7666 non-null   object \n",
      " 1   IN / OUT             7666 non-null   object \n",
      " 2   Nomor GDN/GRN        7666 non-null   object \n",
      " 3   Gudang               7666 non-null   object \n",
      " 4   Dari/Kepada-Masking  7666 non-null   object \n",
      " 5   Nama Barang          7666 non-null   object \n",
      " 6   Satuan               7666 non-null   object \n",
      " 7   Masuk                7666 non-null   object \n",
      " 8   Keluar               7666 non-null   object \n",
      " 9   Nilai                7666 non-null   object \n",
      " 10  Jumlah               7666 non-null   object \n",
      " 11  Berat                7666 non-null   object \n",
      " 12  Total Berat          7666 non-null   float64\n",
      "dtypes: float64(1), object(12)\n",
      "memory usage: 838.5+ KB\n"
     ]
    }
   ],
   "source": [
    "data.info()"
   ]
  },
  {
   "cell_type": "markdown",
   "id": "3ff4e5c1-97fb-47fc-a525-c219a8b28131",
   "metadata": {},
   "source": [
    "### Masih banyak kolom bertipe data object, untuk memudahkan analisis, ubah beberapa kolom ke tipe data number"
   ]
  },
  {
   "cell_type": "markdown",
   "id": "d920b709-bba4-4be7-9093-a59ff535dfbe",
   "metadata": {},
   "source": [
    "### Convert Data Type"
   ]
  },
  {
   "cell_type": "code",
   "execution_count": 10,
   "id": "64d873cb-4532-4a00-8de4-e6839a3d242e",
   "metadata": {},
   "outputs": [],
   "source": [
    "#Buat fungsi untuk merubah kurs dan merapihkan angka\n",
    "#Convert Currency\n",
    "def convert_currency(val):\n",
    "    \"\"\"\n",
    "    Convert the string number value to a float\n",
    "     - Remove Rp.\n",
    "     - Remove commas\n",
    "     - Convert to float type\n",
    "    \"\"\"\n",
    "    new_val = str(val).replace(',','').replace('Rp', '').replace('-',str(np.nan))\n",
    "    return float(new_val)\n",
    "\n",
    "#Convert Value that contain comma\n",
    "def convert_comma(val):\n",
    "    \"\"\"\n",
    "    Convert the string number value to a float\n",
    "     - Remove commas\n",
    "     - Convert to float type\n",
    "    \"\"\"\n",
    "    new_val = str(val).replace(',','').replace('-',str(np.nan))\n",
    "    return float(new_val)"
   ]
  },
  {
   "cell_type": "code",
   "execution_count": 11,
   "id": "cebf602b-6ea8-44c6-8d0d-c2afce220ccb",
   "metadata": {},
   "outputs": [],
   "source": [
    "data['Nilai'] = data['Nilai'].apply(convert_currency)"
   ]
  },
  {
   "cell_type": "code",
   "execution_count": 12,
   "id": "7b913f54-d746-4b26-b46d-4e6390690ebd",
   "metadata": {},
   "outputs": [],
   "source": [
    "data['Masuk'] = data['Masuk'].apply(convert_comma)"
   ]
  },
  {
   "cell_type": "code",
   "execution_count": 13,
   "id": "82d9567b-af08-44e7-9f4b-d58921629843",
   "metadata": {},
   "outputs": [],
   "source": [
    "data['Keluar'] = data['Keluar'].apply(convert_comma)"
   ]
  },
  {
   "cell_type": "code",
   "execution_count": 14,
   "id": "8d1f4330-aadc-4d78-af7e-52d3e3742768",
   "metadata": {},
   "outputs": [],
   "source": [
    "data['Jumlah'] = data['Jumlah'].apply(convert_currency)"
   ]
  },
  {
   "cell_type": "code",
   "execution_count": 15,
   "id": "ddf10757-dbda-45cd-b47b-c13516f92c58",
   "metadata": {},
   "outputs": [],
   "source": [
    "data['Berat'] = data['Berat'].apply(convert_comma)"
   ]
  },
  {
   "cell_type": "code",
   "execution_count": 16,
   "id": "e0ea48bc-32a3-49d2-b2a8-8ba6ca34203d",
   "metadata": {},
   "outputs": [],
   "source": [
    "data['Tanggal'] = pd.to_datetime(data['Tanggal'])"
   ]
  },
  {
   "cell_type": "code",
   "execution_count": 17,
   "id": "604583ae-ec0b-4970-b3e0-99dbb022296b",
   "metadata": {},
   "outputs": [
    {
     "name": "stdout",
     "output_type": "stream",
     "text": [
      "<class 'pandas.core.frame.DataFrame'>\n",
      "Int64Index: 7666 entries, 0 to 8188\n",
      "Data columns (total 13 columns):\n",
      " #   Column               Non-Null Count  Dtype         \n",
      "---  ------               --------------  -----         \n",
      " 0   Tanggal              7666 non-null   datetime64[ns]\n",
      " 1   IN / OUT             7666 non-null   object        \n",
      " 2   Nomor GDN/GRN        7666 non-null   object        \n",
      " 3   Gudang               7666 non-null   object        \n",
      " 4   Dari/Kepada-Masking  7666 non-null   object        \n",
      " 5   Nama Barang          7666 non-null   object        \n",
      " 6   Satuan               7666 non-null   object        \n",
      " 7   Masuk                7666 non-null   float64       \n",
      " 8   Keluar               7666 non-null   float64       \n",
      " 9   Nilai                7666 non-null   float64       \n",
      " 10  Jumlah               7662 non-null   float64       \n",
      " 11  Berat                7666 non-null   float64       \n",
      " 12  Total Berat          7666 non-null   float64       \n",
      "dtypes: datetime64[ns](1), float64(6), object(6)\n",
      "memory usage: 838.5+ KB\n"
     ]
    }
   ],
   "source": [
    "data.info()"
   ]
  },
  {
   "cell_type": "code",
   "execution_count": 18,
   "id": "8759079d-785b-4310-a6ba-0376ea8cb18f",
   "metadata": {},
   "outputs": [
    {
     "data": {
      "text/html": [
       "<div>\n",
       "<style scoped>\n",
       "    .dataframe tbody tr th:only-of-type {\n",
       "        vertical-align: middle;\n",
       "    }\n",
       "\n",
       "    .dataframe tbody tr th {\n",
       "        vertical-align: top;\n",
       "    }\n",
       "\n",
       "    .dataframe thead th {\n",
       "        text-align: right;\n",
       "    }\n",
       "</style>\n",
       "<table border=\"1\" class=\"dataframe\">\n",
       "  <thead>\n",
       "    <tr style=\"text-align: right;\">\n",
       "      <th></th>\n",
       "      <th>Masuk</th>\n",
       "      <th>Keluar</th>\n",
       "      <th>Nilai</th>\n",
       "      <th>Jumlah</th>\n",
       "      <th>Berat</th>\n",
       "      <th>Total Berat</th>\n",
       "    </tr>\n",
       "  </thead>\n",
       "  <tbody>\n",
       "    <tr>\n",
       "      <th>count</th>\n",
       "      <td>7666.000000</td>\n",
       "      <td>7.666000e+03</td>\n",
       "      <td>7.666000e+03</td>\n",
       "      <td>7.662000e+03</td>\n",
       "      <td>7666.000000</td>\n",
       "      <td>7666.000000</td>\n",
       "    </tr>\n",
       "    <tr>\n",
       "      <th>mean</th>\n",
       "      <td>1698.780851</td>\n",
       "      <td>1.606064e+03</td>\n",
       "      <td>5.317244e+05</td>\n",
       "      <td>3.928565e+07</td>\n",
       "      <td>3.185299</td>\n",
       "      <td>400.948766</td>\n",
       "    </tr>\n",
       "    <tr>\n",
       "      <th>std</th>\n",
       "      <td>17122.469479</td>\n",
       "      <td>2.120517e+04</td>\n",
       "      <td>5.462839e+06</td>\n",
       "      <td>1.828753e+08</td>\n",
       "      <td>10.173428</td>\n",
       "      <td>2099.926581</td>\n",
       "    </tr>\n",
       "    <tr>\n",
       "      <th>min</th>\n",
       "      <td>0.000000</td>\n",
       "      <td>0.000000e+00</td>\n",
       "      <td>4.160000e+02</td>\n",
       "      <td>1.364000e+03</td>\n",
       "      <td>0.006000</td>\n",
       "      <td>0.000000</td>\n",
       "    </tr>\n",
       "    <tr>\n",
       "      <th>25%</th>\n",
       "      <td>0.000000</td>\n",
       "      <td>3.000000e+00</td>\n",
       "      <td>7.000000e+03</td>\n",
       "      <td>3.500000e+05</td>\n",
       "      <td>0.040000</td>\n",
       "      <td>1.500000</td>\n",
       "    </tr>\n",
       "    <tr>\n",
       "      <th>50%</th>\n",
       "      <td>0.000000</td>\n",
       "      <td>2.000000e+01</td>\n",
       "      <td>3.600000e+04</td>\n",
       "      <td>1.500000e+06</td>\n",
       "      <td>0.150000</td>\n",
       "      <td>10.000000</td>\n",
       "    </tr>\n",
       "    <tr>\n",
       "      <th>75%</th>\n",
       "      <td>0.000000</td>\n",
       "      <td>1.397500e+02</td>\n",
       "      <td>2.200000e+05</td>\n",
       "      <td>7.500000e+06</td>\n",
       "      <td>1.200000</td>\n",
       "      <td>60.000000</td>\n",
       "    </tr>\n",
       "    <tr>\n",
       "      <th>max</th>\n",
       "      <td>512000.000000</td>\n",
       "      <td>1.347438e+06</td>\n",
       "      <td>1.124200e+08</td>\n",
       "      <td>6.531000e+09</td>\n",
       "      <td>65.000000</td>\n",
       "      <td>80846.280000</td>\n",
       "    </tr>\n",
       "  </tbody>\n",
       "</table>\n",
       "</div>"
      ],
      "text/plain": [
       "               Masuk        Keluar         Nilai        Jumlah        Berat  \\\n",
       "count    7666.000000  7.666000e+03  7.666000e+03  7.662000e+03  7666.000000   \n",
       "mean     1698.780851  1.606064e+03  5.317244e+05  3.928565e+07     3.185299   \n",
       "std     17122.469479  2.120517e+04  5.462839e+06  1.828753e+08    10.173428   \n",
       "min         0.000000  0.000000e+00  4.160000e+02  1.364000e+03     0.006000   \n",
       "25%         0.000000  3.000000e+00  7.000000e+03  3.500000e+05     0.040000   \n",
       "50%         0.000000  2.000000e+01  3.600000e+04  1.500000e+06     0.150000   \n",
       "75%         0.000000  1.397500e+02  2.200000e+05  7.500000e+06     1.200000   \n",
       "max    512000.000000  1.347438e+06  1.124200e+08  6.531000e+09    65.000000   \n",
       "\n",
       "        Total Berat  \n",
       "count   7666.000000  \n",
       "mean     400.948766  \n",
       "std     2099.926581  \n",
       "min        0.000000  \n",
       "25%        1.500000  \n",
       "50%       10.000000  \n",
       "75%       60.000000  \n",
       "max    80846.280000  "
      ]
     },
     "execution_count": 18,
     "metadata": {},
     "output_type": "execute_result"
    }
   ],
   "source": [
    "data.describe()"
   ]
  },
  {
   "cell_type": "markdown",
   "id": "b4181b49-ee4f-4c7e-8e21-8ac8093b001f",
   "metadata": {},
   "source": [
    "## Menambahkan Beberapa kolom untuk lebih memudahkan analisa dan melakukan visualisasi data"
   ]
  },
  {
   "cell_type": "markdown",
   "id": "d7688d75-5876-40c7-8514-d9e78a23dd5e",
   "metadata": {},
   "source": [
    "#### Kolom `Jenis Barang`\n",
    "    - Pengelompokkan data ini dilakukan untuk memudahkan melihat distribusi dari jenis barang, karena jika dilihat dari nama barang, tidak akan efektif untuk di analisis"
   ]
  },
  {
   "cell_type": "code",
   "execution_count": 19,
   "id": "1bf254c3-6ad5-485c-a8d8-9626e3445c1b",
   "metadata": {},
   "outputs": [],
   "source": [
    "# buat kolom baru untuk jenis barang\n",
    "data['Jenis Barang'] = data['Nama Barang']\n",
    "\n",
    "# ubah string ke lower\n",
    "data['Nama Barang'] = data['Nama Barang'].str.lower()"
   ]
  },
  {
   "cell_type": "code",
   "execution_count": 20,
   "id": "64d17c66-e700-41b2-8218-8df8802fd2d7",
   "metadata": {},
   "outputs": [
    {
     "data": {
      "text/html": [
       "<div>\n",
       "<style scoped>\n",
       "    .dataframe tbody tr th:only-of-type {\n",
       "        vertical-align: middle;\n",
       "    }\n",
       "\n",
       "    .dataframe tbody tr th {\n",
       "        vertical-align: top;\n",
       "    }\n",
       "\n",
       "    .dataframe thead th {\n",
       "        text-align: right;\n",
       "    }\n",
       "</style>\n",
       "<table border=\"1\" class=\"dataframe\">\n",
       "  <thead>\n",
       "    <tr style=\"text-align: right;\">\n",
       "      <th></th>\n",
       "      <th>Tanggal</th>\n",
       "      <th>IN / OUT</th>\n",
       "      <th>Nomor GDN/GRN</th>\n",
       "      <th>Gudang</th>\n",
       "      <th>Dari/Kepada-Masking</th>\n",
       "      <th>Nama Barang</th>\n",
       "      <th>Satuan</th>\n",
       "      <th>Masuk</th>\n",
       "      <th>Keluar</th>\n",
       "      <th>Nilai</th>\n",
       "      <th>Jumlah</th>\n",
       "      <th>Berat</th>\n",
       "      <th>Total Berat</th>\n",
       "      <th>Jenis Barang</th>\n",
       "    </tr>\n",
       "  </thead>\n",
       "  <tbody>\n",
       "    <tr>\n",
       "      <th>0</th>\n",
       "      <td>2020-02-01</td>\n",
       "      <td>IN</td>\n",
       "      <td>1.01</td>\n",
       "      <td>G2</td>\n",
       "      <td>Gudang Regional PMI_Serang</td>\n",
       "      <td>masker bedah</td>\n",
       "      <td>Pcs</td>\n",
       "      <td>350000.0</td>\n",
       "      <td>0.0</td>\n",
       "      <td>7000.0</td>\n",
       "      <td>2.450000e+09</td>\n",
       "      <td>0.006</td>\n",
       "      <td>2100.0</td>\n",
       "      <td>Masker Bedah</td>\n",
       "    </tr>\n",
       "    <tr>\n",
       "      <th>1</th>\n",
       "      <td>2020-02-01</td>\n",
       "      <td>OUT</td>\n",
       "      <td>1.01</td>\n",
       "      <td>G2</td>\n",
       "      <td>Ketua Umum</td>\n",
       "      <td>masker n95</td>\n",
       "      <td>Pcs</td>\n",
       "      <td>0.0</td>\n",
       "      <td>800.0</td>\n",
       "      <td>108240.0</td>\n",
       "      <td>8.659200e+07</td>\n",
       "      <td>0.040</td>\n",
       "      <td>32.0</td>\n",
       "      <td>Masker N95</td>\n",
       "    </tr>\n",
       "    <tr>\n",
       "      <th>2</th>\n",
       "      <td>2020-02-01</td>\n",
       "      <td>OUT</td>\n",
       "      <td>1.02</td>\n",
       "      <td>G2</td>\n",
       "      <td>PMI Kabupaten Natuna</td>\n",
       "      <td>masker bedah</td>\n",
       "      <td>Pcs</td>\n",
       "      <td>0.0</td>\n",
       "      <td>20000.0</td>\n",
       "      <td>7000.0</td>\n",
       "      <td>1.400000e+08</td>\n",
       "      <td>0.006</td>\n",
       "      <td>120.0</td>\n",
       "      <td>Masker Bedah</td>\n",
       "    </tr>\n",
       "    <tr>\n",
       "      <th>3</th>\n",
       "      <td>2020-02-05</td>\n",
       "      <td>OUT</td>\n",
       "      <td>5.01</td>\n",
       "      <td>G2</td>\n",
       "      <td>Palang Merah Hongkong</td>\n",
       "      <td>masker bedah</td>\n",
       "      <td>Pcs</td>\n",
       "      <td>0.0</td>\n",
       "      <td>50000.0</td>\n",
       "      <td>7000.0</td>\n",
       "      <td>3.500000e+08</td>\n",
       "      <td>0.006</td>\n",
       "      <td>300.0</td>\n",
       "      <td>Masker Bedah</td>\n",
       "    </tr>\n",
       "    <tr>\n",
       "      <th>4</th>\n",
       "      <td>2020-02-05</td>\n",
       "      <td>OUT</td>\n",
       "      <td>5.02</td>\n",
       "      <td>G2</td>\n",
       "      <td>Lain-lain</td>\n",
       "      <td>masker bedah</td>\n",
       "      <td>Pcs</td>\n",
       "      <td>0.0</td>\n",
       "      <td>4000.0</td>\n",
       "      <td>7000.0</td>\n",
       "      <td>2.800000e+07</td>\n",
       "      <td>0.006</td>\n",
       "      <td>24.0</td>\n",
       "      <td>Masker Bedah</td>\n",
       "    </tr>\n",
       "  </tbody>\n",
       "</table>\n",
       "</div>"
      ],
      "text/plain": [
       "     Tanggal IN / OUT Nomor GDN/GRN Gudang         Dari/Kepada-Masking  \\\n",
       "0 2020-02-01       IN          1.01     G2  Gudang Regional PMI_Serang   \n",
       "1 2020-02-01      OUT          1.01     G2                  Ketua Umum   \n",
       "2 2020-02-01      OUT          1.02     G2        PMI Kabupaten Natuna   \n",
       "3 2020-02-05      OUT          5.01     G2       Palang Merah Hongkong   \n",
       "4 2020-02-05      OUT          5.02     G2                   Lain-lain   \n",
       "\n",
       "    Nama Barang Satuan     Masuk   Keluar     Nilai        Jumlah  Berat  \\\n",
       "0  masker bedah    Pcs  350000.0      0.0    7000.0  2.450000e+09  0.006   \n",
       "1    masker n95    Pcs       0.0    800.0  108240.0  8.659200e+07  0.040   \n",
       "2  masker bedah    Pcs       0.0  20000.0    7000.0  1.400000e+08  0.006   \n",
       "3  masker bedah    Pcs       0.0  50000.0    7000.0  3.500000e+08  0.006   \n",
       "4  masker bedah    Pcs       0.0   4000.0    7000.0  2.800000e+07  0.006   \n",
       "\n",
       "   Total Berat  Jenis Barang  \n",
       "0       2100.0  Masker Bedah  \n",
       "1         32.0    Masker N95  \n",
       "2        120.0  Masker Bedah  \n",
       "3        300.0  Masker Bedah  \n",
       "4         24.0  Masker Bedah  "
      ]
     },
     "execution_count": 20,
     "metadata": {},
     "output_type": "execute_result"
    }
   ],
   "source": [
    "data.head()"
   ]
  },
  {
   "cell_type": "code",
   "execution_count": 21,
   "id": "0c86ba76-9d14-4b35-ace1-3f1bd4e073bf",
   "metadata": {},
   "outputs": [
    {
     "name": "stdout",
     "output_type": "stream",
     "text": [
      "['Masker Bedah' 'Masker N95' 'Hazmat' 'Kacamata' 'Sepatu Boot' 'Virkon'\n",
      " 'Disinfektan 5 Liter' 'Sarung Tangan Karet' 'Sprayer'\n",
      " 'Hand Sanitizer Saku' 'Hand Sanitizer 500 ml' 'Hand Sanitizer 5 Liter'\n",
      " 'Disinfektan 20 Liter' 'Masker Respirator' 'Sarung Tangan Latex'\n",
      " 'Hand Sanitizer 1 Liter' 'Hand Sanitizer 20 Liter' 'Tandon Air 300 lt'\n",
      " 'Kaporit' 'Jas Hujan ' 'Kompresor Set' 'Air Mineral Botol' 'Wipol'\n",
      " 'Rompi PMI' 'Masker Kain' 'Sabun Lifebouy' 'Paper Bag PHBS' 'Paket PHBS'\n",
      " 'Teh Celup Sariwangi' 'Mie Instan' 'My Baby Minyak Telon Plus'\n",
      " 'Sabun Marina' 'Sabun Claudia' 'Obat - Bodrexin Batuk Pilek'\n",
      " 'Obat - Bodrexin Flu PE' 'Obat - Vidoran Gummy Frugi E ND' 'Susu Vidoran'\n",
      " \"Obat - Vidoran Smart Sberry 25's\" 'Obat - Contrexyn Tablet'\n",
      " 'Vitamin - IPI B Complex' 'Obat - Vidoran Gummy 54 gr'\n",
      " 'Hemaviton Energy Drink' 'Obat - Oskadryl Extra Sirup' 'Hemaviton Jreng'\n",
      " 'Obat - Bodrex Flu & Batuk 60ml' \"Obat - Bodrex 20's\"\n",
      " 'Obat - Oskadon Extra' 'Obat - Oskadryl Extra Tablet'\n",
      " 'Obat - Wybert Herbal Batuk 60 ml' 'Air Mineral Galon 5 Liter'\n",
      " 'Hygiene Kit' 'Biskuit Biskies' 'Buavita' 'Disinfektan Spray'\n",
      " 'Kantong Mayat' 'Disinfektan 30 Liter' 'Obat - Basmingin'\n",
      " 'Obat - Bejo Jahe Merah' 'Obat - Komix Herbal'\n",
      " 'Suplemen - Extra Joss Active' 'Suplemen - Extra Jos Go'\n",
      " 'Hand Sanitizer 30 Liter' 'Face Shield ' 'Food Kit' 'Sabun Lux'\n",
      " 'Susu Vivity' 'Ventilator Type Mobile YH 830' 'Ventilator Type YH 830'\n",
      " 'Ventilator Type YH 730' 'Vitamin - Golden Kirei' 'Hansaplast '\n",
      " 'Tisu Basah Disinfektan' 'Paket Sembako' 'Koko Krunch' 'Nescafe'\n",
      " 'Susu Beruang' 'sabun Lux' 'Virkon cair' 'Hand sanitizer Saku'\n",
      " 'Kaporit Cair' \"Obat - Vidoran Smart Sberry 25'S\"\n",
      " 'Hand sanitizer 20 Liter' 'Apron' 'Masker kain' 'Kantong Mayat Infeksius'\n",
      " 'Disinfektan spray' 'Obat - Antangin Cair' 'Obat - Antangin Tablet'\n",
      " 'Obat - Kojima' 'Knapsack' 'Air Mineral Gelas' 'AIr Mineral Botol'\n",
      " 'Hemaviton energy Drink' 'sabun lux' 'Simba Cereal Bar'\n",
      " 'Simba Choco Pillow' 'Simba Choco Chips' 'Tshirt Uniqlo'\n",
      " 'air Mineral Botol' 'Hand Sanitizer 1 liter' 'Termometer Infrared'\n",
      " 'Paket Steps Kids' 'T-shirt Steps Kids' 'Paket steps kids'\n",
      " 'Khong Guan Red Mini' 'MD Cream Cracker' 'Trendy Assortment'\n",
      " 'Harmony Assortment' 'Dovie Red' 'Dovie Blue' 'Pie Sand Vanilla'\n",
      " 'Alat Rapid Test' 'Medicated Soap - Brand PMI' 'Masker bedah'\n",
      " 'Fine Choco Chocolate Drink' 'Ventilator' 'Head Cap' 'Tisu Basah'\n",
      " 'Popok Bayi' 'Sabun Mandi' 'Pasta Gigi' 'Sikat Gigi' 'Sarung'\n",
      " 'Kopi Fresco' 'Susu Vidoran Bubuk' 'Cerelac Nestle' 'Bubur Sun'\n",
      " 'Pembalut' 'Shampo' 'Detergen' 'Tikar ' 'Selimut' 'Kopi Kapal Api '\n",
      " 'Popolo Wafer Bar' 'Beras' 'Gula Putih Gulare' 'Minyak Goreng Sunco'\n",
      " 'Susu Kental Manis' 'Wafer Nabati' 'Energen' 'Teh Poci'\n",
      " 'Hand Sanitizer Meja']\n"
     ]
    }
   ],
   "source": [
    "#Check unique untuk melihat ada barang apa saja dan memudahkan dalam pengelompokkan jenis barang\n",
    "print(data['Jenis Barang'].unique())"
   ]
  },
  {
   "cell_type": "code",
   "execution_count": 22,
   "id": "1e3ef23d-b361-475a-a9f9-09e02468beb6",
   "metadata": {},
   "outputs": [],
   "source": [
    "# Buat lst untuk mengelompokkan nama barang berdasarkan jenis dan fungsinya\n",
    "APD = ['masker', 'hazmat', 'sarung tangan', 'shoes', 'cap']\n",
    "Makanan = ['mie','biskuit','jahe','koko','simba', \n",
    "           'khong','cracker', 'pie', 'choco',  'cerelac', \n",
    "           'wafer', 'beras', 'gula', 'minyak',  \n",
    "           'makanan', 'roti', 'saos', 'kecap', 'sarden', 'malkies', \n",
    "           'cookies', 'momogi', 'snack', 'joss', 'bubur', 'assortment', 'food']\n",
    "ObatSuplemen = ['obat', 'vitamin','hemaviton','bintang', ]\n",
    "Bahan_kimia = ['virkon', 'disinfektan', 'sanitizer', 'wipol']\n",
    "Alat = ['sprayer', 'terpal', 'kaporit', 'jas', 'kompresor', 'rompi', 'matras', 'ventilator']\n",
    "Kebutuhan_MCK = ['hygiene', 'sabun', 'dovie', 'soap', 'pasta gigi', 'sikat gigi', \n",
    "                 'pembalut', 'shampo', 'detergen', 'tisu', 'sunlight', 'biosol']\n",
    "Kebutuhan_Medis = ['hansaplast']\n",
    "Minuman = ['susu','milk','air','buavita','nescafe','joss','jos','kopi','energen', 'teh',]\n",
    "Paket_Bantuan = ['sembako', 'paket', 'family']\n",
    "Peralatan_Penunjang_Medis = ['kacamata', 'sepatu', 'apron', 'termometer', 'alat rapid test', \n",
    "                             'usg', 'selang', 'spray', 'sarung', 'tikar ', 'selimut', 'jerigen','life', \n",
    "                             'knapsack', 'mayat', 'shield']\n",
    "Lainnya = ['tripod','banner','baliho','leaflet','buku','paket karyawan pmi','panduan','paper', 'pisau', \n",
    "           'poster', 'pamflet', 'stiker', 'boneka', 'steps', 'boat','dayung', 'helm','river','wastafel', \n",
    "           'hit', 'samsung', 'boat']\n",
    "Pakaian = ['tshirt', 't-shirt', 'clothes', 'shirt', 'underware', 'sandal','handuk','sejadah','bantal',\n",
    "           'sprei','mukena','pakaian','kemeja', 'form', 'popok', 'bayi']\n",
    "\n",
    "# Ubah nama sesuai jenis barang yang sudah di kelompokkan\n",
    "data.loc[data['Nama Barang'].str.contains('|'.join(APD)), 'Jenis Barang'] = 'APD'\n",
    "data.loc[data['Nama Barang'].str.contains('|'.join(Makanan)), 'Jenis Barang'] = 'Makanan'\n",
    "data.loc[data['Nama Barang'].str.contains('|'.join(ObatSuplemen)), 'Jenis Barang'] = 'Obat&Suplemen'\n",
    "data.loc[data['Nama Barang'].str.contains('|'.join(Bahan_kimia)), 'Jenis Barang'] = 'Bahan Kimia'\n",
    "data.loc[data['Nama Barang'].str.contains('|'.join(Alat)), 'Jenis Barang'] = 'Alat'\n",
    "data.loc[data['Nama Barang'].str.contains('|'.join(Kebutuhan_MCK)), 'Jenis Barang'] = 'Kebutuhan MCK'\n",
    "data.loc[data['Nama Barang'].str.contains('|'.join(Kebutuhan_Medis)), 'Jenis Barang'] = 'Kebutuhan Medis'\n",
    "data.loc[data['Nama Barang'].str.contains('|'.join(Minuman)), 'Jenis Barang'] = 'Minuman'\n",
    "data.loc[data['Nama Barang'].str.contains('|'.join(Paket_Bantuan)), 'Jenis Barang'] = 'Paket Bantuan'\n",
    "data.loc[data['Nama Barang'].str.contains('|'.join(Peralatan_Penunjang_Medis)), 'Jenis Barang'] = 'Peralatan Penunjang Medis'\n",
    "data.loc[data['Nama Barang'].str.contains('|'.join(Lainnya)), 'Jenis Barang'] = 'Lainnya'\n",
    "data.loc[data['Nama Barang'].str.contains('|'.join(Pakaian)), 'Jenis Barang'] = 'Pakaian'"
   ]
  },
  {
   "cell_type": "code",
   "execution_count": null,
   "id": "3fe54cb9-ff11-409c-aad1-a6e56636e0f6",
   "metadata": {},
   "outputs": [],
   "source": [
    "def classify(item):\n",
    "    if (item[\"negative_keywords\"]) != \"[]\":\n",
    "        return \"negative\"\n",
    "    if len(item[\"positive_keywords\"]) != \"[]\":\n",
    "        return \"positive\"\n",
    "    if len(item[\"neutral_keywords\"]) != \"[]\":\n",
    "        return \"neutral\"\n",
    "    return 0  # what if none are true? or if multiple are true?\n",
    "\n",
    "df[\"keyword_category\"] = df.apply(classify, axis=1)"
   ]
  },
  {
   "cell_type": "code",
   "execution_count": 23,
   "id": "021bfb91-6d9f-450c-bf6d-ab8792bb3fea",
   "metadata": {},
   "outputs": [
    {
     "name": "stdout",
     "output_type": "stream",
     "text": [
      "['APD' 'Peralatan Penunjang Medis' 'Bahan Kimia' 'Minuman' 'Alat'\n",
      " 'Lainnya' 'Paket Bantuan' 'Makanan' 'Kebutuhan MCK' 'Obat&Suplemen'\n",
      " 'Kebutuhan Medis' 'Pakaian']\n"
     ]
    }
   ],
   "source": [
    "#Check unique\n",
    "print(data['Jenis Barang'].unique())"
   ]
  },
  {
   "cell_type": "markdown",
   "id": "58c7881a-8671-4b24-a194-515f18097cf6",
   "metadata": {},
   "source": [
    "#### Kolom `Lokasi`\n",
    "    - Hal ini dilakukan agar dapat melihat lokasi dari distribusi barang, dan untuk memudahkan dalam menampilkan peta distribusi pada tableau"
   ]
  },
  {
   "cell_type": "code",
   "execution_count": 24,
   "id": "fe276252-2867-4cc1-8808-b1a8fe5b78be",
   "metadata": {},
   "outputs": [],
   "source": [
    "# Manipulasi data untuk memudahkan\n",
    "data['Dari/Kepada-Masking'] = data['Dari/Kepada-Masking'].replace(r\"_\", \" \", regex=True).str.lower()"
   ]
  },
  {
   "cell_type": "code",
   "execution_count": 25,
   "id": "96940a04-fb0e-4ea7-a715-1f8fd8484d98",
   "metadata": {},
   "outputs": [],
   "source": [
    "#Buat dulu kolom baru untuk Lokasi\n",
    "data['Lokasi'] = data['Dari/Kepada-Masking']"
   ]
  },
  {
   "cell_type": "code",
   "execution_count": 26,
   "id": "172045ed-da21-45cc-b9a7-52ecf3efd1a6",
   "metadata": {
    "tags": []
   },
   "outputs": [],
   "source": [
    "# import list nama kota from another csv file\n",
    "# data nama kota diambil dari https://simplemaps.com/data/id-cities\n",
    "list_kota = pd.read_csv('Indonesian_cities_database.csv')\n",
    "\n",
    "#Ubah menjadi list\n",
    "kota = list_kota['city'].tolist()\n",
    "\n",
    "#Tentukan Patternnya\n",
    "pat = '|'.join(r\"\\b{}\\b\".format(x) for x in kota)\n",
    "\n",
    "#Apply ke dataframe\n",
    "data['Lokasi'] = data['Dari/Kepada-Masking'].str.extract('(' + pat + ')', flags=re.I)"
   ]
  },
  {
   "cell_type": "code",
   "execution_count": 27,
   "id": "637e2f5f-94cd-464d-9b37-039340b24e01",
   "metadata": {},
   "outputs": [],
   "source": [
    "# Fill null data with 'Not Known'\n",
    "data['Lokasi'] = data['Lokasi'].fillna(\"Not Known\")"
   ]
  },
  {
   "cell_type": "code",
   "execution_count": 28,
   "id": "42f463dc-9b3f-447a-81c1-39480df966db",
   "metadata": {},
   "outputs": [
    {
     "data": {
      "text/html": [
       "<div>\n",
       "<style scoped>\n",
       "    .dataframe tbody tr th:only-of-type {\n",
       "        vertical-align: middle;\n",
       "    }\n",
       "\n",
       "    .dataframe tbody tr th {\n",
       "        vertical-align: top;\n",
       "    }\n",
       "\n",
       "    .dataframe thead th {\n",
       "        text-align: right;\n",
       "    }\n",
       "</style>\n",
       "<table border=\"1\" class=\"dataframe\">\n",
       "  <thead>\n",
       "    <tr style=\"text-align: right;\">\n",
       "      <th></th>\n",
       "      <th>Tanggal</th>\n",
       "      <th>IN / OUT</th>\n",
       "      <th>Nomor GDN/GRN</th>\n",
       "      <th>Gudang</th>\n",
       "      <th>Dari/Kepada-Masking</th>\n",
       "      <th>Nama Barang</th>\n",
       "      <th>Satuan</th>\n",
       "      <th>Masuk</th>\n",
       "      <th>Keluar</th>\n",
       "      <th>Nilai</th>\n",
       "      <th>Jumlah</th>\n",
       "      <th>Berat</th>\n",
       "      <th>Total Berat</th>\n",
       "      <th>Jenis Barang</th>\n",
       "      <th>Lokasi</th>\n",
       "    </tr>\n",
       "  </thead>\n",
       "  <tbody>\n",
       "    <tr>\n",
       "      <th>0</th>\n",
       "      <td>2020-02-01</td>\n",
       "      <td>IN</td>\n",
       "      <td>1.01</td>\n",
       "      <td>G2</td>\n",
       "      <td>gudang regional pmi serang</td>\n",
       "      <td>masker bedah</td>\n",
       "      <td>Pcs</td>\n",
       "      <td>350000.0</td>\n",
       "      <td>0.0</td>\n",
       "      <td>7000.0</td>\n",
       "      <td>2.450000e+09</td>\n",
       "      <td>0.006</td>\n",
       "      <td>2100.0</td>\n",
       "      <td>APD</td>\n",
       "      <td>gudang</td>\n",
       "    </tr>\n",
       "    <tr>\n",
       "      <th>1</th>\n",
       "      <td>2020-02-01</td>\n",
       "      <td>OUT</td>\n",
       "      <td>1.01</td>\n",
       "      <td>G2</td>\n",
       "      <td>ketua umum</td>\n",
       "      <td>masker n95</td>\n",
       "      <td>Pcs</td>\n",
       "      <td>0.0</td>\n",
       "      <td>800.0</td>\n",
       "      <td>108240.0</td>\n",
       "      <td>8.659200e+07</td>\n",
       "      <td>0.040</td>\n",
       "      <td>32.0</td>\n",
       "      <td>APD</td>\n",
       "      <td>Not Known</td>\n",
       "    </tr>\n",
       "    <tr>\n",
       "      <th>2</th>\n",
       "      <td>2020-02-01</td>\n",
       "      <td>OUT</td>\n",
       "      <td>1.02</td>\n",
       "      <td>G2</td>\n",
       "      <td>pmi kabupaten natuna</td>\n",
       "      <td>masker bedah</td>\n",
       "      <td>Pcs</td>\n",
       "      <td>0.0</td>\n",
       "      <td>20000.0</td>\n",
       "      <td>7000.0</td>\n",
       "      <td>1.400000e+08</td>\n",
       "      <td>0.006</td>\n",
       "      <td>120.0</td>\n",
       "      <td>APD</td>\n",
       "      <td>kabupaten natuna</td>\n",
       "    </tr>\n",
       "    <tr>\n",
       "      <th>3</th>\n",
       "      <td>2020-02-05</td>\n",
       "      <td>OUT</td>\n",
       "      <td>5.01</td>\n",
       "      <td>G2</td>\n",
       "      <td>palang merah hongkong</td>\n",
       "      <td>masker bedah</td>\n",
       "      <td>Pcs</td>\n",
       "      <td>0.0</td>\n",
       "      <td>50000.0</td>\n",
       "      <td>7000.0</td>\n",
       "      <td>3.500000e+08</td>\n",
       "      <td>0.006</td>\n",
       "      <td>300.0</td>\n",
       "      <td>APD</td>\n",
       "      <td>Not Known</td>\n",
       "    </tr>\n",
       "    <tr>\n",
       "      <th>4</th>\n",
       "      <td>2020-02-05</td>\n",
       "      <td>OUT</td>\n",
       "      <td>5.02</td>\n",
       "      <td>G2</td>\n",
       "      <td>lain-lain</td>\n",
       "      <td>masker bedah</td>\n",
       "      <td>Pcs</td>\n",
       "      <td>0.0</td>\n",
       "      <td>4000.0</td>\n",
       "      <td>7000.0</td>\n",
       "      <td>2.800000e+07</td>\n",
       "      <td>0.006</td>\n",
       "      <td>24.0</td>\n",
       "      <td>APD</td>\n",
       "      <td>Not Known</td>\n",
       "    </tr>\n",
       "  </tbody>\n",
       "</table>\n",
       "</div>"
      ],
      "text/plain": [
       "     Tanggal IN / OUT Nomor GDN/GRN Gudang         Dari/Kepada-Masking  \\\n",
       "0 2020-02-01       IN          1.01     G2  gudang regional pmi serang   \n",
       "1 2020-02-01      OUT          1.01     G2                  ketua umum   \n",
       "2 2020-02-01      OUT          1.02     G2        pmi kabupaten natuna   \n",
       "3 2020-02-05      OUT          5.01     G2       palang merah hongkong   \n",
       "4 2020-02-05      OUT          5.02     G2                   lain-lain   \n",
       "\n",
       "    Nama Barang Satuan     Masuk   Keluar     Nilai        Jumlah  Berat  \\\n",
       "0  masker bedah    Pcs  350000.0      0.0    7000.0  2.450000e+09  0.006   \n",
       "1    masker n95    Pcs       0.0    800.0  108240.0  8.659200e+07  0.040   \n",
       "2  masker bedah    Pcs       0.0  20000.0    7000.0  1.400000e+08  0.006   \n",
       "3  masker bedah    Pcs       0.0  50000.0    7000.0  3.500000e+08  0.006   \n",
       "4  masker bedah    Pcs       0.0   4000.0    7000.0  2.800000e+07  0.006   \n",
       "\n",
       "   Total Berat Jenis Barang            Lokasi  \n",
       "0       2100.0          APD            gudang  \n",
       "1         32.0          APD         Not Known  \n",
       "2        120.0          APD  kabupaten natuna  \n",
       "3        300.0          APD         Not Known  \n",
       "4         24.0          APD         Not Known  "
      ]
     },
     "execution_count": 28,
     "metadata": {},
     "output_type": "execute_result"
    }
   ],
   "source": [
    "data.head()"
   ]
  },
  {
   "cell_type": "markdown",
   "id": "8ce522c9-7193-44f7-b04f-83f8c71dd9fc",
   "metadata": {},
   "source": [
    "#### Kolom `Jumlah Distribusi`\n",
    "    - Hal ini dilakukan agar dapat melihat jumlah total distribusi dan memudahkan untuk visualisasi data"
   ]
  },
  {
   "cell_type": "code",
   "execution_count": 29,
   "id": "b12347cc-02fa-483a-8705-2c858f445bb3",
   "metadata": {},
   "outputs": [],
   "source": [
    "#Buat kolom baru untuk jumlah distribusi\n",
    "data['Jumlah Distribusi'] = data['Masuk'] + data['Keluar']"
   ]
  },
  {
   "cell_type": "markdown",
   "id": "4e643851-c3c8-4ad1-9597-5caf29a72a24",
   "metadata": {},
   "source": [
    "### Save Data"
   ]
  },
  {
   "cell_type": "code",
   "execution_count": 30,
   "id": "45904450-b7af-46aa-bbc2-3946a616cdc7",
   "metadata": {},
   "outputs": [],
   "source": [
    "#Simpan data yang telah di bersihkan ke dalam csv dan xlsx untuk di analisis lebih lanjut di tableau\n",
    "new_data = data.copy()\n",
    "new_data.to_csv('Laporan Stock Gudang PMI - NEW.csv', index=False)\n",
    "new_data.to_excel('Laporan Stock Gudang PMI - NEW.xlsx', index=False)"
   ]
  },
  {
   "cell_type": "markdown",
   "id": "2c4c04fd-6d76-46ae-9e8d-ce0ebc01331f",
   "metadata": {},
   "source": [
    "- Sampai disini data sudah dibersihkan dan siap untuk dilakukan visualisasi untuk di analisis lebih lanjut\n",
    "- `new_data` berisi semua kolom yang sudah dibersihkan"
   ]
  },
  {
   "cell_type": "markdown",
   "id": "d91071d1-5e3d-4480-b048-96e1c8b0f463",
   "metadata": {},
   "source": [
    "---"
   ]
  },
  {
   "cell_type": "markdown",
   "id": "64de5c5f-b8e6-4c41-8f85-f15691ee2cb9",
   "metadata": {},
   "source": [
    "# Visualisasi Data"
   ]
  },
  {
   "cell_type": "markdown",
   "id": "a6baa19a-b578-4e69-94ab-94a30c013ec2",
   "metadata": {},
   "source": [
    "#### Melakukan EDA sederhana sebelum di analisis lebih lanjut lewat tableau\n",
    "    - Hal ini dilakukan untuk melihat apakah data yang sudah bersih, sudah cukup untuk membuat dashboard di tableau dan sesuai dengan tujuan MVP yang sudah ditentukan sebelumnya"
   ]
  },
  {
   "cell_type": "code",
   "execution_count": 31,
   "id": "247eab19-fa3e-4278-9a8e-b7f94749fffd",
   "metadata": {},
   "outputs": [],
   "source": [
    "#Baca data yang sudah bersih\n",
    "df = pd.read_csv('Laporan Stock Gudang PMI - NEW.csv')"
   ]
  },
  {
   "cell_type": "code",
   "execution_count": 32,
   "id": "02120d82-cbe7-4e1a-8308-5552f23326aa",
   "metadata": {},
   "outputs": [
    {
     "data": {
      "text/html": [
       "<div>\n",
       "<style scoped>\n",
       "    .dataframe tbody tr th:only-of-type {\n",
       "        vertical-align: middle;\n",
       "    }\n",
       "\n",
       "    .dataframe tbody tr th {\n",
       "        vertical-align: top;\n",
       "    }\n",
       "\n",
       "    .dataframe thead th {\n",
       "        text-align: right;\n",
       "    }\n",
       "</style>\n",
       "<table border=\"1\" class=\"dataframe\">\n",
       "  <thead>\n",
       "    <tr style=\"text-align: right;\">\n",
       "      <th></th>\n",
       "      <th>Tanggal</th>\n",
       "      <th>IN / OUT</th>\n",
       "      <th>Nomor GDN/GRN</th>\n",
       "      <th>Gudang</th>\n",
       "      <th>Dari/Kepada-Masking</th>\n",
       "      <th>Nama Barang</th>\n",
       "      <th>Satuan</th>\n",
       "      <th>Masuk</th>\n",
       "      <th>Keluar</th>\n",
       "      <th>Nilai</th>\n",
       "      <th>Jumlah</th>\n",
       "      <th>Berat</th>\n",
       "      <th>Total Berat</th>\n",
       "      <th>Jenis Barang</th>\n",
       "      <th>Lokasi</th>\n",
       "      <th>Jumlah Distribusi</th>\n",
       "    </tr>\n",
       "  </thead>\n",
       "  <tbody>\n",
       "    <tr>\n",
       "      <th>0</th>\n",
       "      <td>2020-02-01</td>\n",
       "      <td>IN</td>\n",
       "      <td>1.01</td>\n",
       "      <td>G2</td>\n",
       "      <td>gudang regional pmi serang</td>\n",
       "      <td>masker bedah</td>\n",
       "      <td>Pcs</td>\n",
       "      <td>350000.0</td>\n",
       "      <td>0.0</td>\n",
       "      <td>7000.0</td>\n",
       "      <td>2.450000e+09</td>\n",
       "      <td>0.006</td>\n",
       "      <td>2100.0</td>\n",
       "      <td>APD</td>\n",
       "      <td>gudang</td>\n",
       "      <td>350000.0</td>\n",
       "    </tr>\n",
       "    <tr>\n",
       "      <th>1</th>\n",
       "      <td>2020-02-01</td>\n",
       "      <td>OUT</td>\n",
       "      <td>1.01</td>\n",
       "      <td>G2</td>\n",
       "      <td>ketua umum</td>\n",
       "      <td>masker n95</td>\n",
       "      <td>Pcs</td>\n",
       "      <td>0.0</td>\n",
       "      <td>800.0</td>\n",
       "      <td>108240.0</td>\n",
       "      <td>8.659200e+07</td>\n",
       "      <td>0.040</td>\n",
       "      <td>32.0</td>\n",
       "      <td>APD</td>\n",
       "      <td>Not Known</td>\n",
       "      <td>800.0</td>\n",
       "    </tr>\n",
       "    <tr>\n",
       "      <th>2</th>\n",
       "      <td>2020-02-01</td>\n",
       "      <td>OUT</td>\n",
       "      <td>1.02</td>\n",
       "      <td>G2</td>\n",
       "      <td>pmi kabupaten natuna</td>\n",
       "      <td>masker bedah</td>\n",
       "      <td>Pcs</td>\n",
       "      <td>0.0</td>\n",
       "      <td>20000.0</td>\n",
       "      <td>7000.0</td>\n",
       "      <td>1.400000e+08</td>\n",
       "      <td>0.006</td>\n",
       "      <td>120.0</td>\n",
       "      <td>APD</td>\n",
       "      <td>kabupaten natuna</td>\n",
       "      <td>20000.0</td>\n",
       "    </tr>\n",
       "    <tr>\n",
       "      <th>3</th>\n",
       "      <td>2020-02-05</td>\n",
       "      <td>OUT</td>\n",
       "      <td>5.01</td>\n",
       "      <td>G2</td>\n",
       "      <td>palang merah hongkong</td>\n",
       "      <td>masker bedah</td>\n",
       "      <td>Pcs</td>\n",
       "      <td>0.0</td>\n",
       "      <td>50000.0</td>\n",
       "      <td>7000.0</td>\n",
       "      <td>3.500000e+08</td>\n",
       "      <td>0.006</td>\n",
       "      <td>300.0</td>\n",
       "      <td>APD</td>\n",
       "      <td>Not Known</td>\n",
       "      <td>50000.0</td>\n",
       "    </tr>\n",
       "    <tr>\n",
       "      <th>4</th>\n",
       "      <td>2020-02-05</td>\n",
       "      <td>OUT</td>\n",
       "      <td>5.02</td>\n",
       "      <td>G2</td>\n",
       "      <td>lain-lain</td>\n",
       "      <td>masker bedah</td>\n",
       "      <td>Pcs</td>\n",
       "      <td>0.0</td>\n",
       "      <td>4000.0</td>\n",
       "      <td>7000.0</td>\n",
       "      <td>2.800000e+07</td>\n",
       "      <td>0.006</td>\n",
       "      <td>24.0</td>\n",
       "      <td>APD</td>\n",
       "      <td>Not Known</td>\n",
       "      <td>4000.0</td>\n",
       "    </tr>\n",
       "  </tbody>\n",
       "</table>\n",
       "</div>"
      ],
      "text/plain": [
       "      Tanggal IN / OUT Nomor GDN/GRN Gudang         Dari/Kepada-Masking  \\\n",
       "0  2020-02-01       IN          1.01     G2  gudang regional pmi serang   \n",
       "1  2020-02-01      OUT          1.01     G2                  ketua umum   \n",
       "2  2020-02-01      OUT          1.02     G2        pmi kabupaten natuna   \n",
       "3  2020-02-05      OUT          5.01     G2       palang merah hongkong   \n",
       "4  2020-02-05      OUT          5.02     G2                   lain-lain   \n",
       "\n",
       "    Nama Barang Satuan     Masuk   Keluar     Nilai        Jumlah  Berat  \\\n",
       "0  masker bedah    Pcs  350000.0      0.0    7000.0  2.450000e+09  0.006   \n",
       "1    masker n95    Pcs       0.0    800.0  108240.0  8.659200e+07  0.040   \n",
       "2  masker bedah    Pcs       0.0  20000.0    7000.0  1.400000e+08  0.006   \n",
       "3  masker bedah    Pcs       0.0  50000.0    7000.0  3.500000e+08  0.006   \n",
       "4  masker bedah    Pcs       0.0   4000.0    7000.0  2.800000e+07  0.006   \n",
       "\n",
       "   Total Berat Jenis Barang            Lokasi  Jumlah Distribusi  \n",
       "0       2100.0          APD            gudang           350000.0  \n",
       "1         32.0          APD         Not Known              800.0  \n",
       "2        120.0          APD  kabupaten natuna            20000.0  \n",
       "3        300.0          APD         Not Known            50000.0  \n",
       "4         24.0          APD         Not Known             4000.0  "
      ]
     },
     "execution_count": 32,
     "metadata": {},
     "output_type": "execute_result"
    }
   ],
   "source": [
    "df.head()"
   ]
  },
  {
   "cell_type": "code",
   "execution_count": 33,
   "id": "0d45c78b-76cc-4136-a12d-45f35e9094d6",
   "metadata": {},
   "outputs": [],
   "source": [
    "#Pisahkan data barang yang masuk dan keluar\n",
    "df_in = df[df['IN / OUT'] == 'IN']\n",
    "df_out = df[df['IN / OUT'] == 'OUT']\n",
    "\n",
    "#Buat dataframe yang telah di grouping berdasarkan jenis barang\n",
    "df_grp_in = df.groupby(['Jenis Barang']).sum().reset_index()"
   ]
  },
  {
   "cell_type": "code",
   "execution_count": 34,
   "id": "0f9630e3-e632-4cb8-9ac2-c906199c8016",
   "metadata": {},
   "outputs": [
    {
     "data": {
      "text/html": [
       "<div>\n",
       "<style scoped>\n",
       "    .dataframe tbody tr th:only-of-type {\n",
       "        vertical-align: middle;\n",
       "    }\n",
       "\n",
       "    .dataframe tbody tr th {\n",
       "        vertical-align: top;\n",
       "    }\n",
       "\n",
       "    .dataframe thead th {\n",
       "        text-align: right;\n",
       "    }\n",
       "</style>\n",
       "<table border=\"1\" class=\"dataframe\">\n",
       "  <thead>\n",
       "    <tr style=\"text-align: right;\">\n",
       "      <th></th>\n",
       "      <th>Jenis Barang</th>\n",
       "      <th>Masuk</th>\n",
       "      <th>Keluar</th>\n",
       "      <th>Nilai</th>\n",
       "      <th>Jumlah</th>\n",
       "      <th>Berat</th>\n",
       "      <th>Total Berat</th>\n",
       "      <th>Jumlah Distribusi</th>\n",
       "    </tr>\n",
       "  </thead>\n",
       "  <tbody>\n",
       "    <tr>\n",
       "      <th>0</th>\n",
       "      <td>APD</td>\n",
       "      <td>6257445.0</td>\n",
       "      <td>5607313.0</td>\n",
       "      <td>1.472085e+08</td>\n",
       "      <td>1.162454e+11</td>\n",
       "      <td>71.904</td>\n",
       "      <td>169368.99</td>\n",
       "      <td>11864758.0</td>\n",
       "    </tr>\n",
       "    <tr>\n",
       "      <th>1</th>\n",
       "      <td>Alat</td>\n",
       "      <td>5263.0</td>\n",
       "      <td>3933.0</td>\n",
       "      <td>2.701830e+09</td>\n",
       "      <td>1.313292e+10</td>\n",
       "      <td>13106.095</td>\n",
       "      <td>95396.91</td>\n",
       "      <td>9196.0</td>\n",
       "    </tr>\n",
       "    <tr>\n",
       "      <th>2</th>\n",
       "      <td>Bahan Kimia</td>\n",
       "      <td>850289.0</td>\n",
       "      <td>840641.0</td>\n",
       "      <td>5.669760e+08</td>\n",
       "      <td>4.116306e+10</td>\n",
       "      <td>4816.740</td>\n",
       "      <td>1203235.98</td>\n",
       "      <td>1690930.0</td>\n",
       "    </tr>\n",
       "    <tr>\n",
       "      <th>3</th>\n",
       "      <td>Kebutuhan MCK</td>\n",
       "      <td>1626088.0</td>\n",
       "      <td>1619453.0</td>\n",
       "      <td>1.922807e+07</td>\n",
       "      <td>1.054339e+10</td>\n",
       "      <td>594.314</td>\n",
       "      <td>264129.47</td>\n",
       "      <td>3245541.0</td>\n",
       "    </tr>\n",
       "    <tr>\n",
       "      <th>4</th>\n",
       "      <td>Kebutuhan Medis</td>\n",
       "      <td>2500.0</td>\n",
       "      <td>2500.0</td>\n",
       "      <td>1.260000e+06</td>\n",
       "      <td>1.500000e+08</td>\n",
       "      <td>0.840</td>\n",
       "      <td>100.00</td>\n",
       "      <td>5000.0</td>\n",
       "    </tr>\n",
       "  </tbody>\n",
       "</table>\n",
       "</div>"
      ],
      "text/plain": [
       "      Jenis Barang      Masuk     Keluar         Nilai        Jumlah  \\\n",
       "0              APD  6257445.0  5607313.0  1.472085e+08  1.162454e+11   \n",
       "1             Alat     5263.0     3933.0  2.701830e+09  1.313292e+10   \n",
       "2      Bahan Kimia   850289.0   840641.0  5.669760e+08  4.116306e+10   \n",
       "3    Kebutuhan MCK  1626088.0  1619453.0  1.922807e+07  1.054339e+10   \n",
       "4  Kebutuhan Medis     2500.0     2500.0  1.260000e+06  1.500000e+08   \n",
       "\n",
       "       Berat  Total Berat  Jumlah Distribusi  \n",
       "0     71.904    169368.99         11864758.0  \n",
       "1  13106.095     95396.91             9196.0  \n",
       "2   4816.740   1203235.98          1690930.0  \n",
       "3    594.314    264129.47          3245541.0  \n",
       "4      0.840       100.00             5000.0  "
      ]
     },
     "execution_count": 34,
     "metadata": {},
     "output_type": "execute_result"
    }
   ],
   "source": [
    "df_grp_in.head()"
   ]
  },
  {
   "cell_type": "markdown",
   "id": "c9df99b9-9a60-4b2a-9313-11c33040af3d",
   "metadata": {},
   "source": [
    "### Cek untuk korelasi datanya"
   ]
  },
  {
   "cell_type": "code",
   "execution_count": 35,
   "id": "935e7eb6-a17d-4c25-970d-25e9160028e6",
   "metadata": {},
   "outputs": [
    {
     "data": {
      "text/plain": [
       "<AxesSubplot:>"
      ]
     },
     "execution_count": 35,
     "metadata": {},
     "output_type": "execute_result"
    },
    {
     "data": {
      "image/png": "[encoded data removed]",
      "text/plain": [
       "<Figure size 1008x864 with 2 Axes>"
      ]
     },
     "metadata": {
      "needs_background": "light"
     },
     "output_type": "display_data"
    }
   ],
   "source": [
    "corrmat = df.corr()\n",
    "f, ax = plt.subplots(figsize=(14, 12))\n",
    "sns.heatmap(corrmat[(corrmat >= 0.5) | (corrmat <= -0.4)], \n",
    "            cmap='viridis', vmax=1.0, vmin=-1.0, linewidths=0.1,\n",
    "            annot=True, annot_kws={\"size\": 8}, square=True)"
   ]
  },
  {
   "cell_type": "markdown",
   "id": "3de931ce-fdf9-4590-a1d8-4572c2dabd4d",
   "metadata": {},
   "source": [
    "- Melihat dari korelasi tersebut bisa dikatakan sudah cukup efektif jika melihat dari distribusi barang masuk dan keluar"
   ]
  },
  {
   "cell_type": "markdown",
   "id": "735d34c6-37cf-446c-968a-e9976169c483",
   "metadata": {},
   "source": [
    "### Lihat data menggunakan barplot untuk melihat jenis barang masuk dan keluar"
   ]
  },
  {
   "cell_type": "code",
   "execution_count": 36,
   "id": "36a7e0a9-a3ae-459a-9dff-a98919768a2f",
   "metadata": {},
   "outputs": [
    {
     "data": {
      "text/plain": [
       "(array([ 0,  1,  2,  3,  4,  5,  6,  7,  8,  9, 10, 11]),\n",
       " [Text(0, 0, 'APD'),\n",
       "  Text(1, 0, 'Alat'),\n",
       "  Text(2, 0, 'Bahan Kimia'),\n",
       "  Text(3, 0, 'Kebutuhan MCK'),\n",
       "  Text(4, 0, 'Kebutuhan Medis'),\n",
       "  Text(5, 0, 'Lainnya'),\n",
       "  Text(6, 0, 'Makanan'),\n",
       "  Text(7, 0, 'Minuman'),\n",
       "  Text(8, 0, 'Obat&Suplemen'),\n",
       "  Text(9, 0, 'Pakaian'),\n",
       "  Text(10, 0, 'Paket Bantuan'),\n",
       "  Text(11, 0, 'Peralatan Penunjang Medis')])"
      ]
     },
     "execution_count": 36,
     "metadata": {},
     "output_type": "execute_result"
    },
    {
     "data": {
      "image/png": "[encoded data removed]",
      "text/plain": [
       "<Figure size 432x288 with 1 Axes>"
      ]
     },
     "metadata": {
      "needs_background": "light"
     },
     "output_type": "display_data"
    }
   ],
   "source": [
    "#cek berapa banyak barang masuk berdasarkan jenis barang\n",
    "sns.barplot(x='Jenis Barang',\n",
    "                 y='Masuk', data=df_grp_in)\n",
    "plt.xticks(rotation=90)"
   ]
  },
  {
   "cell_type": "markdown",
   "id": "0f7861be-c1c5-42dd-a496-e4c0d6288c6a",
   "metadata": {},
   "source": [
    "- Dari data tersebut, terlihat bahwa tiga jenis barang yang paling banyak masuk adalah `APD`, `Peralatan Penunjang Medis`, `Kebutuhan MCK` "
   ]
  },
  {
   "cell_type": "code",
   "execution_count": 37,
   "id": "45957719-0bdc-4000-b1d9-4ae28ee00028",
   "metadata": {},
   "outputs": [
    {
     "data": {
      "text/plain": [
       "(array([ 0,  1,  2,  3,  4,  5,  6,  7,  8,  9, 10, 11]),\n",
       " [Text(0, 0, 'APD'),\n",
       "  Text(1, 0, 'Alat'),\n",
       "  Text(2, 0, 'Bahan Kimia'),\n",
       "  Text(3, 0, 'Kebutuhan MCK'),\n",
       "  Text(4, 0, 'Kebutuhan Medis'),\n",
       "  Text(5, 0, 'Lainnya'),\n",
       "  Text(6, 0, 'Makanan'),\n",
       "  Text(7, 0, 'Minuman'),\n",
       "  Text(8, 0, 'Obat&Suplemen'),\n",
       "  Text(9, 0, 'Pakaian'),\n",
       "  Text(10, 0, 'Paket Bantuan'),\n",
       "  Text(11, 0, 'Peralatan Penunjang Medis')])"
      ]
     },
     "execution_count": 37,
     "metadata": {},
     "output_type": "execute_result"
    },
    {
     "data": {
      "image/png": "[encoded data removed]",
      "text/plain": [
       "<Figure size 432x288 with 1 Axes>"
      ]
     },
     "metadata": {
      "needs_background": "light"
     },
     "output_type": "display_data"
    }
   ],
   "source": [
    "#cek berapa banyak barang keluar berdasarkan jenis barang\n",
    "sns.barplot(x='Jenis Barang',\n",
    "                 y='Keluar', data=df_grp_in)\n",
    "plt.xticks(rotation=90)"
   ]
  },
  {
   "cell_type": "markdown",
   "id": "ef167191-8500-4b26-9275-4de072eb2108",
   "metadata": {},
   "source": [
    "- Sama seperti banyak nya barang masuk, terlihat bahwa tiga jenis barang yang paling banyak masuk adalah `APD`, `Peralatan Penunjang Medis`, `Kebutuhan MCK` "
   ]
  },
  {
   "cell_type": "code",
   "execution_count": 38,
   "id": "23a78012-a846-4b1c-9a05-7a9f916d6eb1",
   "metadata": {},
   "outputs": [
    {
     "data": {
      "text/plain": [
       "<AxesSubplot:ylabel='Gudang'>"
      ]
     },
     "execution_count": 38,
     "metadata": {},
     "output_type": "execute_result"
    },
    {
     "data": {
      "image/png": "[encoded data removed]",
      "text/plain": [
       "<Figure size 432x288 with 1 Axes>"
      ]
     },
     "metadata": {
      "needs_background": "light"
     },
     "output_type": "display_data"
    }
   ],
   "source": [
    "#cek untuk banyaknya aktivitas penerimaan donasi setiap gudang\n",
    "sns.barplot(x=df_in['Gudang'].value_counts().index,\n",
    "                 y=df_in['Gudang'].value_counts(normalize=True))"
   ]
  },
  {
   "cell_type": "code",
   "execution_count": 39,
   "id": "c8774d8d-8d0e-49e9-abbf-891781dc3409",
   "metadata": {},
   "outputs": [
    {
     "data": {
      "text/plain": [
       "G1    163\n",
       "G2    155\n",
       "G5    150\n",
       "G4     78\n",
       "G3     50\n",
       "G7     49\n",
       "G6     26\n",
       "Name: Gudang, dtype: int64"
      ]
     },
     "execution_count": 39,
     "metadata": {},
     "output_type": "execute_result"
    }
   ],
   "source": [
    "# Cek jumlahnya\n",
    "df_in['Gudang'].value_counts()"
   ]
  },
  {
   "cell_type": "code",
   "execution_count": 40,
   "id": "d8913a95-fb9c-48d4-953e-f41f5c5e3bfc",
   "metadata": {},
   "outputs": [
    {
     "data": {
      "text/plain": [
       "<AxesSubplot:ylabel='Gudang'>"
      ]
     },
     "execution_count": 40,
     "metadata": {},
     "output_type": "execute_result"
    },
    {
     "data": {
      "image/png": "[encoded data removed]",
      "text/plain": [
       "<Figure size 432x288 with 1 Axes>"
      ]
     },
     "metadata": {
      "needs_background": "light"
     },
     "output_type": "display_data"
    }
   ],
   "source": [
    "#cek untuk banyaknya aktivitas penerimaan donasi setiap gudang\n",
    "sns.barplot(x=df_out['Gudang'].value_counts().index,\n",
    "                 y=df_out['Gudang'].value_counts(normalize=True))"
   ]
  },
  {
   "cell_type": "code",
   "execution_count": 41,
   "id": "3697070f-a899-453b-9697-843a7cb9a36e",
   "metadata": {},
   "outputs": [
    {
     "data": {
      "text/plain": [
       "G5    1723\n",
       "G1    1679\n",
       "G2    1322\n",
       "G3     822\n",
       "G7     782\n",
       "G4     469\n",
       "G6     198\n",
       "Name: Gudang, dtype: int64"
      ]
     },
     "execution_count": 41,
     "metadata": {},
     "output_type": "execute_result"
    }
   ],
   "source": [
    "# Cek jumlahnya\n",
    "df_out['Gudang'].value_counts()"
   ]
  },
  {
   "cell_type": "markdown",
   "id": "79002bb3-3372-433f-b6d5-de5fa72e1a4f",
   "metadata": {},
   "source": [
    "- Gudang G1, G2, G5 terlihat gudang yang paling banyak aktifitas penerimaan dan pendistribusian barang dibanding gudang yang lain\n",
    "- Apakah ini sudah cukup efektif?\n",
    "- Hal ini perlu ditelusuri fungsi dari masing-masing setiap gudang, untuk membantu efektifitas penerimaan dan pendistribusian barang"
   ]
  },
  {
   "cell_type": "markdown",
   "id": "d7a4b094-4bd0-4c20-924d-bfe915896367",
   "metadata": {},
   "source": [
    "### Lihat distribusi barang masuk dan keluar berdasarkan jenis barang dan gudang"
   ]
  },
  {
   "cell_type": "code",
   "execution_count": 42,
   "id": "622520e1-e3e2-4091-93e2-e614631e44f4",
   "metadata": {},
   "outputs": [
    {
     "data": {
      "image/png": "[encoded data removed]",
      "text/plain": [
       "<Figure size 1612.32x972 with 12 Axes>"
      ]
     },
     "metadata": {
      "needs_background": "light"
     },
     "output_type": "display_data"
    }
   ],
   "source": [
    "ax = sns.catplot(data=df, kind='bar', x='Gudang', y='Jumlah Distribusi', col='Jenis Barang', hue='IN / OUT',col_wrap=4, height=4.5,aspect=1.2, sharey=False)"
   ]
  },
  {
   "cell_type": "markdown",
   "id": "3812a73b-2513-412c-9161-218b7cac4b90",
   "metadata": {},
   "source": [
    "- Dapat dilihat setiap gudang menerima atau menampung barang donasi yang berbeda, berikut data untuk setiap gudang:\n",
    "    - Gudang G1 untuk barang masuk di dominasi oleh jenis barang: Alat, Pakaian, Minuman\n",
    "    - Gudang G2: APD, Alat, Peralatan Penunjang Medis, Lainnya\n",
    "    - Gudang G3: Alat\n",
    "    - Gudang G4: Minuman, Paket Bantuan\n",
    "    - Gudang G5: Obat & Suplemen, Bahan Kimia, Pakaian, Makanan, Minuman\n",
    "    - Gudang G6: Alat, Peralatan Penunjang Medis, Kebutuhan MCK, Minuman\n",
    "- Jika melihat dari data tersebut, tidak semua jenis barang masuk merata ke gudang-gudang PMI\n",
    "- Apakah setiap gudang mempunyai fungsi yang berbeda?\n",
    "- Hal ini harus ditelusuri lebih dalam agar dapat dilihat efektifitas dari setiap gudang"
   ]
  },
  {
   "cell_type": "markdown",
   "id": "2cd37a72-56b5-4302-afd1-b8aa466c8f9c",
   "metadata": {},
   "source": [
    "### Lihat data time series untuk barang masuk dan keluar setiap jenis barang"
   ]
  },
  {
   "cell_type": "code",
   "execution_count": 43,
   "id": "9d8c566d-b330-4ddf-b584-845ec3bef2af",
   "metadata": {},
   "outputs": [],
   "source": [
    "#Buat copy dataframe untuk set index ke tanggal\n",
    "df_t = df.copy()\n",
    "\n",
    "#set index ke tanggal\n",
    "df_t.set_index('Tanggal', inplace=True)\n",
    "\n",
    "#Pisahkan data barang masuk dan keluar\n",
    "df_t_in = df_t[df_t['IN / OUT'] == 'IN']\n",
    "df_t_out = df_t[df_t['IN / OUT'] == 'OUT']"
   ]
  },
  {
   "cell_type": "markdown",
   "id": "ef557e88-b31c-4c80-a1b1-c87443fee4e8",
   "metadata": {},
   "source": [
    "### Lihat jumlah barang masuk dan keluar\n",
    "    - Jumlah barang masuk semua gudang"
   ]
  },
  {
   "cell_type": "code",
   "execution_count": 44,
   "id": "f8a5f758-d716-4b54-b450-9819d8b29ea0",
   "metadata": {},
   "outputs": [
    {
     "data": {
      "text/plain": [
       "Text(0.5, 1.0, 'Jumlah Barang Masuk')"
      ]
     },
     "execution_count": 44,
     "metadata": {},
     "output_type": "execute_result"
    },
    {
     "data": {
      "image/png": "[encoded data removed]",
      "text/plain": [
       "<Figure size 864x432 with 1 Axes>"
      ]
     },
     "metadata": {
      "needs_background": "light"
     },
     "output_type": "display_data"
    }
   ],
   "source": [
    "#plot untuk distribusi keluar jenis barang APD\n",
    "df_t[(df_t['IN / OUT'] == 'IN')]['Jumlah Distribusi'].sort_index().cumsum().plot(figsize=(12,6))\n",
    "plt.title('Jumlah Barang Masuk')"
   ]
  },
  {
   "cell_type": "markdown",
   "id": "64270e27-fcad-4168-b52a-de068fb13d11",
   "metadata": {},
   "source": [
    "    - Jumlah barang keluar semua gudang"
   ]
  },
  {
   "cell_type": "code",
   "execution_count": 45,
   "id": "dd809077-50d3-4cc2-9aae-04c7a88d9cae",
   "metadata": {},
   "outputs": [
    {
     "data": {
      "text/plain": [
       "Text(0.5, 1.0, 'Jumlah Barang Keluar')"
      ]
     },
     "execution_count": 45,
     "metadata": {},
     "output_type": "execute_result"
    },
    {
     "data": {
      "image/png": "[encoded data removed]",
      "text/plain": [
       "<Figure size 864x432 with 1 Axes>"
      ]
     },
     "metadata": {
      "needs_background": "light"
     },
     "output_type": "display_data"
    }
   ],
   "source": [
    "#plot untuk distribusi keluar jenis barang APD\n",
    "df_t[(df_t['IN / OUT'] == 'OUT')]['Jumlah Distribusi'].sort_index().cumsum().plot(figsize=(12,6), color='orange')\n",
    "plt.title('Jumlah Barang Keluar')"
   ]
  },
  {
   "cell_type": "markdown",
   "id": "dfd35df0-9317-4a66-8c8c-10c8422a09ca",
   "metadata": {},
   "source": [
    "    - Jumlah Barang Masuk di Setiap Gudang"
   ]
  },
  {
   "cell_type": "code",
   "execution_count": 46,
   "id": "1d687978-4f88-4764-8f67-dbf3d4e09b3a",
   "metadata": {},
   "outputs": [
    {
     "data": {
      "image/png": "[encoded data removed]",
      "text/plain": [
       "<Figure size 1152x576 with 6 Axes>"
      ]
     },
     "metadata": {
      "needs_background": "light"
     },
     "output_type": "display_data"
    }
   ],
   "source": [
    "# create the time series subplots\n",
    "fig,ax =  plt.subplots( 2, 3, figsize = ( 16, 8))\n",
    "\n",
    "df_t[(df_t['Gudang'] == 'G1') & (df_t['IN / OUT'] == 'IN')]['Jumlah Distribusi'].sort_index().cumsum().plot(label='G1',ax = ax[0][0])\n",
    "ax[0][0].tick_params(axis='x', labelrotation = 45)\n",
    "ax[0][0].set_title('Gudang G1', fontweight='bold')\n",
    "\n",
    "df_t[(df_t['Gudang'] == 'G2') & (df_t['IN / OUT'] == 'IN')]['Jumlah Distribusi'].sort_index().cumsum().plot(label='G2',ax = ax[0][1])\n",
    "ax[0][1].tick_params(axis='x', labelrotation = 45)\n",
    "ax[0][1].set_title('Gudang G2', fontweight='bold')\n",
    "\n",
    "df_t[(df_t['Gudang'] == 'G3') & (df_t['IN / OUT'] == 'IN')]['Jumlah Distribusi'].sort_index().cumsum().plot(label='G3', ax = ax[0][2])\n",
    "ax[0][2].tick_params(axis='x', labelrotation = 45)\n",
    "ax[0][2].set_title('Gudang G3', fontweight='bold')\n",
    "\n",
    "df_t[(df_t['Gudang'] == 'G4') & (df_t['IN / OUT'] == 'IN')]['Jumlah Distribusi'].sort_index().cumsum().plot(label='G4', ax = ax[1][0])\n",
    "ax[1][0].tick_params(axis='x', labelrotation = 45)\n",
    "ax[1][0].set_title('Gudang G4', fontweight='bold')\n",
    "\n",
    "df_t[(df_t['Gudang'] == 'G5') & (df_t['IN / OUT'] == 'IN')]['Jumlah Distribusi'].sort_index().cumsum().plot(label='G5', ax = ax[1][1])\n",
    "ax[1][1].tick_params(axis='x', labelrotation = 45)\n",
    "ax[1][1].set_title('Gudang G5', fontweight='bold')\n",
    "\n",
    "df_t[(df_t['Gudang'] == 'G6') & (df_t['IN / OUT'] == 'IN')]['Jumlah Distribusi'].sort_index().cumsum().plot(label='G6', ax = ax[1][2])\n",
    "ax[1][2].tick_params(axis='x', labelrotation = 45)\n",
    "ax[1][2].set_title('Gudang G6', fontweight='bold')\n",
    "\n",
    "fig.suptitle('Jumlah Barang Masuk', fontsize=14)\n",
    "fig.tight_layout(pad = 1.3)"
   ]
  },
  {
   "cell_type": "markdown",
   "id": "bf6f9148-23a5-41c7-b742-9ada5ba162b9",
   "metadata": {},
   "source": [
    "    - Jumlah Barang Keluar di Setiap Gudang"
   ]
  },
  {
   "cell_type": "code",
   "execution_count": 48,
   "id": "edce95ae-8a72-4f6d-acd2-a8ef0a366144",
   "metadata": {},
   "outputs": [
    {
     "data": {
      "image/png": "[encoded data removed]",
      "text/plain": [
       "<Figure size 1152x576 with 6 Axes>"
      ]
     },
     "metadata": {
      "needs_background": "light"
     },
     "output_type": "display_data"
    }
   ],
   "source": [
    "# create the time series subplots\n",
    "fig,ax =  plt.subplots( 2, 3, figsize = ( 16, 8))\n",
    "\n",
    "df_t[(df_t['Gudang'] == 'G1') & (df_t['IN / OUT'] == 'OUT')]['Jumlah Distribusi'].sort_index().cumsum().plot(label='G1',ax = ax[0][0], color='orange')\n",
    "ax[0][0].tick_params(axis='x', labelrotation = 45)\n",
    "ax[0][0].set_title('Gudang G1', fontweight='bold')\n",
    "\n",
    "df_t[(df_t['Gudang'] == 'G2') & (df_t['IN / OUT'] == 'OUT')]['Jumlah Distribusi'].sort_index().cumsum().plot(label='G2',ax = ax[0][1], color='orange')\n",
    "ax[0][1].tick_params(axis='x', labelrotation = 45)\n",
    "ax[0][1].set_title('Gudang G2', fontweight='bold')\n",
    "\n",
    "df_t[(df_t['Gudang'] == 'G3') & (df_t['IN / OUT'] == 'OUT')]['Jumlah Distribusi'].sort_index().cumsum().plot(label='G3', ax = ax[0][2], color='orange')\n",
    "ax[0][2].tick_params(axis='x', labelrotation = 45)\n",
    "ax[0][2].set_title('Gudang G3', fontweight='bold')\n",
    "\n",
    "df_t[(df_t['Gudang'] == 'G4') & (df_t['IN / OUT'] == 'OUT')]['Jumlah Distribusi'].sort_index().cumsum().plot(label='G4', ax = ax[1][0], color='orange')\n",
    "ax[1][0].tick_params(axis='x', labelrotation = 45)\n",
    "ax[1][0].set_title('Gudang G4', fontweight='bold')\n",
    "\n",
    "df_t[(df_t['Gudang'] == 'G5') & (df_t['IN / OUT'] == 'OUT')]['Jumlah Distribusi'].sort_index().cumsum().plot(label='G5', ax = ax[1][1], color='orange')\n",
    "ax[1][1].tick_params(axis='x', labelrotation = 45)\n",
    "ax[1][1].set_title('Gudang G5', fontweight='bold')\n",
    "\n",
    "df_t[(df_t['Gudang'] == 'G6') & (df_t['IN / OUT'] == 'OUT')]['Jumlah Distribusi'].sort_index().cumsum().plot(label='G6', ax = ax[1][2], color='orange')\n",
    "ax[1][2].tick_params(axis='x', labelrotation = 45)\n",
    "ax[1][2].set_title('Gudang G6', fontweight='bold')\n",
    "\n",
    "fig.suptitle('Jumlah Barang Keluar', fontsize=14)\n",
    "fig.tight_layout(pad = 1.3)"
   ]
  }
 ],
 "metadata": {
  "kernelspec": {
   "display_name": "Python 3",
   "language": "python",
   "name": "python3"
  },
  "language_info": {
   "codemirror_mode": {
    "name": "ipython",
    "version": 3
   },
   "file_extension": ".py",
   "mimetype": "text/x-python",
   "name": "python",
   "nbconvert_exporter": "python",
   "pygments_lexer": "ipython3",
   "version": "3.8.8"
  }
 },
 "nbformat": 4,
 "nbformat_minor": 5
}
